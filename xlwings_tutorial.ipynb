{
 "cells": [
  {
   "cell_type": "markdown",
   "metadata": {},
   "source": [
    "# Practice Using xlwings"
   ]
  },
  {
   "cell_type": "markdown",
   "metadata": {},
   "source": [
    "Tutorial from:\n",
    "\n",
    "https://www.dataquest.io/blog/python-excel-xlwings-tutorial/?utm_source=newsletter&utm_medium=email&utm_campaign=dataquest_newsletter"
   ]
  },
  {
   "cell_type": "code",
   "execution_count": 44,
   "metadata": {},
   "outputs": [
    {
     "data": {
      "text/html": [
       "<div>\n",
       "<style scoped>\n",
       "    .dataframe tbody tr th:only-of-type {\n",
       "        vertical-align: middle;\n",
       "    }\n",
       "\n",
       "    .dataframe tbody tr th {\n",
       "        vertical-align: top;\n",
       "    }\n",
       "\n",
       "    .dataframe thead th {\n",
       "        text-align: right;\n",
       "    }\n",
       "</style>\n",
       "<table border=\"1\" class=\"dataframe\">\n",
       "  <thead>\n",
       "    <tr style=\"text-align: right;\">\n",
       "      <th></th>\n",
       "      <th>No.</th>\n",
       "      <th>Day</th>\n",
       "      <th>DD</th>\n",
       "      <th>MMM</th>\n",
       "      <th>YYYY</th>\n",
       "      <th>N1</th>\n",
       "      <th>N2</th>\n",
       "      <th>N3</th>\n",
       "      <th>N4</th>\n",
       "      <th>N5</th>\n",
       "      <th>L1</th>\n",
       "      <th>L2</th>\n",
       "      <th>Jackpot</th>\n",
       "      <th>Wins</th>\n",
       "    </tr>\n",
       "  </thead>\n",
       "  <tbody>\n",
       "    <tr>\n",
       "      <th>667</th>\n",
       "      <td>585</td>\n",
       "      <td>Tue</td>\n",
       "      <td>30</td>\n",
       "      <td>Apr</td>\n",
       "      <td>2013</td>\n",
       "      <td>13</td>\n",
       "      <td>50</td>\n",
       "      <td>40</td>\n",
       "      <td>43</td>\n",
       "      <td>36</td>\n",
       "      <td>9</td>\n",
       "      <td>5</td>\n",
       "      <td>12727500</td>\n",
       "      <td>0</td>\n",
       "    </tr>\n",
       "    <tr>\n",
       "      <th>923</th>\n",
       "      <td>329</td>\n",
       "      <td>Fri</td>\n",
       "      <td>28</td>\n",
       "      <td>May</td>\n",
       "      <td>2010</td>\n",
       "      <td>9</td>\n",
       "      <td>31</td>\n",
       "      <td>32</td>\n",
       "      <td>33</td>\n",
       "      <td>4</td>\n",
       "      <td>3</td>\n",
       "      <td>7</td>\n",
       "      <td>12693000</td>\n",
       "      <td>1</td>\n",
       "    </tr>\n",
       "    <tr>\n",
       "      <th>84</th>\n",
       "      <td>1168</td>\n",
       "      <td>Fri</td>\n",
       "      <td>30</td>\n",
       "      <td>Nov</td>\n",
       "      <td>2018</td>\n",
       "      <td>3</td>\n",
       "      <td>10</td>\n",
       "      <td>26</td>\n",
       "      <td>23</td>\n",
       "      <td>12</td>\n",
       "      <td>12</td>\n",
       "      <td>1</td>\n",
       "      <td>43374190</td>\n",
       "      <td>0</td>\n",
       "    </tr>\n",
       "    <tr>\n",
       "      <th>325</th>\n",
       "      <td>927</td>\n",
       "      <td>Tue</td>\n",
       "      <td>9</td>\n",
       "      <td>Aug</td>\n",
       "      <td>2016</td>\n",
       "      <td>19</td>\n",
       "      <td>43</td>\n",
       "      <td>44</td>\n",
       "      <td>12</td>\n",
       "      <td>45</td>\n",
       "      <td>10</td>\n",
       "      <td>5</td>\n",
       "      <td>25724734</td>\n",
       "      <td>0</td>\n",
       "    </tr>\n",
       "    <tr>\n",
       "      <th>819</th>\n",
       "      <td>433</td>\n",
       "      <td>Tue</td>\n",
       "      <td>15</td>\n",
       "      <td>Nov</td>\n",
       "      <td>2011</td>\n",
       "      <td>47</td>\n",
       "      <td>17</td>\n",
       "      <td>22</td>\n",
       "      <td>6</td>\n",
       "      <td>45</td>\n",
       "      <td>3</td>\n",
       "      <td>11</td>\n",
       "      <td>12817500</td>\n",
       "      <td>1</td>\n",
       "    </tr>\n",
       "  </tbody>\n",
       "</table>\n",
       "</div>"
      ],
      "text/plain": [
       "      No.   Day  DD  MMM  YYYY   N1  N2  N3  N4  N5  L1  L2    Jackpot  \\\n",
       "667   585   Tue  30  Apr  2013   13  50  40  43  36   9   5   12727500   \n",
       "923   329   Fri  28  May  2010    9  31  32  33   4   3   7   12693000   \n",
       "84   1168   Fri  30  Nov  2018    3  10  26  23  12  12   1   43374190   \n",
       "325   927   Tue   9  Aug  2016   19  43  44  12  45  10   5   25724734   \n",
       "819   433   Tue  15  Nov  2011   47  17  22   6  45   3  11   12817500   \n",
       "\n",
       "        Wins  \n",
       "667        0  \n",
       "923        1  \n",
       "84         0  \n",
       "325        0  \n",
       "819        1  "
      ]
     },
     "execution_count": 44,
     "metadata": {},
     "output_type": "execute_result"
    }
   ],
   "source": [
    "import pandas as pd\n",
    "import xlwings as xw\n",
    "df = pd.read_csv('euromillions.csv')\n",
    "df.sample(5)"
   ]
  },
  {
   "cell_type": "code",
   "execution_count": 13,
   "metadata": {},
   "outputs": [],
   "source": [
    "wb = xw.Book(r'C:\\Users\\jso\\AppData\\Local\\Programs\\Python\\Python37\\Scripts\\EuroMillions.xlsx')"
   ]
  },
  {
   "cell_type": "code",
   "execution_count": 14,
   "metadata": {},
   "outputs": [
    {
     "name": "stdout",
     "output_type": "stream",
     "text": [
      "Apps([<Excel App 5984>])\n"
     ]
    }
   ],
   "source": [
    "print(xw.apps)"
   ]
  },
  {
   "cell_type": "code",
   "execution_count": 15,
   "metadata": {},
   "outputs": [
    {
     "name": "stdout",
     "output_type": "stream",
     "text": [
      "<Book [EuroMillions.xlsx]>\n"
     ]
    }
   ],
   "source": [
    "print(xw.apps[5984].books[0])"
   ]
  },
  {
   "cell_type": "code",
   "execution_count": 7,
   "metadata": {},
   "outputs": [
    {
     "name": "stdout",
     "output_type": "stream",
     "text": [
      "Sheets([<Sheet [EuroMillions.xlsx]Graphs>, <Sheet [EuroMillions.xlsx]Frequencies>, <Sheet [EuroMillions.xlsx]EuroMillions>])\n"
     ]
    }
   ],
   "source": [
    "print(wb.sheets)"
   ]
  },
  {
   "cell_type": "code",
   "execution_count": 16,
   "metadata": {},
   "outputs": [
    {
     "name": "stdout",
     "output_type": "stream",
     "text": [
      "True\n"
     ]
    }
   ],
   "source": [
    "print(xw.apps[5984].books[0] == wb)"
   ]
  },
  {
   "cell_type": "markdown",
   "metadata": {},
   "source": [
    "Check to see the only instance of this iterable is the workbook wb."
   ]
  },
  {
   "cell_type": "code",
   "execution_count": 39,
   "metadata": {},
   "outputs": [
    {
     "name": "stdout",
     "output_type": "stream",
     "text": [
      "<Sheet [EuroMillions.xlsx]123>\n"
     ]
    }
   ],
   "source": [
    "print(wb.sheets[0])"
   ]
  },
  {
   "cell_type": "code",
   "execution_count": 42,
   "metadata": {},
   "outputs": [],
   "source": [
    "if not 'EuroMillions' in wb.names:\n",
    "    ws = wb.sheets[0].name = \"EuroMillions\"\n",
    "else:\n",
    "    ws = wb.sheets[\"EuroMillions\"]"
   ]
  },
  {
   "cell_type": "code",
   "execution_count": 9,
   "metadata": {},
   "outputs": [],
   "source": [
    "wb.save(\"EuroMillions.xlsx\")"
   ]
  },
  {
   "cell_type": "code",
   "execution_count": 46,
   "metadata": {},
   "outputs": [],
   "source": [
    "ws.range(\"A1\").value = df"
   ]
  },
  {
   "cell_type": "code",
   "execution_count": 49,
   "metadata": {},
   "outputs": [],
   "source": [
    "ws.clear_contents()"
   ]
  },
  {
   "cell_type": "markdown",
   "metadata": {},
   "source": []
  },
  {
   "cell_type": "code",
   "execution_count": 53,
   "metadata": {},
   "outputs": [],
   "source": [
    "ws.range(\"A1\").options(index=False).value = df"
   ]
  },
  {
   "cell_type": "markdown",
   "metadata": {},
   "source": [
    "Fills out worksheet with lottery info in df without the index."
   ]
  },
  {
   "cell_type": "code",
   "execution_count": null,
   "metadata": {},
   "outputs": [],
   "source": [
    "print(df.shape)"
   ]
  },
  {
   "cell_type": "code",
   "execution_count": 21,
   "metadata": {},
   "outputs": [
    {
     "name": "stdout",
     "output_type": "stream",
     "text": [
      "The last row of the spreadsheet is 314.\n"
     ]
    }
   ],
   "source": [
    "last_row = ws.range(1,1).end('down').row\n",
    "print(f'The last row of the spreadsheet is {last_row}.')"
   ]
  },
  {
   "cell_type": "code",
   "execution_count": 15,
   "metadata": {},
   "outputs": [
    {
     "data": {
      "text/plain": [
       "True"
      ]
     },
     "execution_count": 15,
     "metadata": {},
     "output_type": "execute_result"
    }
   ],
   "source": [
    "ws.range(\n",
    "    \"A2:N{row}\".format(row=last_row)\n",
    ").api.Sort(Key1=ws.range(\"A:A\").api, Order1=1)"
   ]
  },
  {
   "cell_type": "code",
   "execution_count": 16,
   "metadata": {},
   "outputs": [],
   "source": [
    "ws.range(\"O1\").value = \"Date\"\n",
    "ws.range(\"O2\").value = \"=C2&D2&RIGHT(E2, 2)\""
   ]
  },
  {
   "cell_type": "code",
   "execution_count": 86,
   "metadata": {},
   "outputs": [
    {
     "data": {
      "text/plain": [
       "True"
      ]
     },
     "execution_count": 86,
     "metadata": {},
     "output_type": "execute_result"
    }
   ],
   "source": [
    "ws.range(\"O2\").api.Autofill(ws.range(f\"O2:O{last_row}\").api,0)"
   ]
  },
  {
   "cell_type": "code",
   "execution_count": 11,
   "metadata": {},
   "outputs": [
    {
     "data": {
      "text/plain": [
       "True"
      ]
     },
     "execution_count": 11,
     "metadata": {},
     "output_type": "execute_result"
    }
   ],
   "source": [
    "from xlwings.constants import AutoFillType\n",
    "ws.range(\"O2\").api.AutoFill(\n",
    "    ws.range(f\"O2:O{last_row}\").api,\n",
    "    AutoFillType.xlFillDefault\n",
    ")"
   ]
  },
  {
   "cell_type": "markdown",
   "metadata": {},
   "source": [
    "Can use names of the fills by importing constants."
   ]
  },
  {
   "cell_type": "code",
   "execution_count": 35,
   "metadata": {},
   "outputs": [],
   "source": [
    "def autofill(worksheet, cell, last_row):\n",
    "    rg_cell = worksheet.range(cell)\n",
    "    col=rg_cell.get_address(0,0)[0]\n",
    "    top_row=rg_cell.row\n",
    "    last_row=last_row\n",
    "    \n",
    "    to_fill = f'{col}{top_row}:{col}{last_row}'\n",
    "    rg_cell.api.Autofill(worksheet.range(to_fill).api, 0)"
   ]
  },
  {
   "cell_type": "code",
   "execution_count": 36,
   "metadata": {},
   "outputs": [
    {
     "name": "stdout",
     "output_type": "stream",
     "text": [
      "<class 'list'>\n"
     ]
    }
   ],
   "source": [
    "print(type(ws.range(f\"O2:O{last_row}\").value))"
   ]
  },
  {
   "cell_type": "code",
   "execution_count": 117,
   "metadata": {},
   "outputs": [
    {
     "name": "stdout",
     "output_type": "stream",
     "text": [
      "[None, None, None, None, None, None, None, None, None, None]\n"
     ]
    }
   ],
   "source": [
    "print(ws.range(f\"O2:O{last_row}\").value[:10])"
   ]
  },
  {
   "cell_type": "code",
   "execution_count": 98,
   "metadata": {},
   "outputs": [],
   "source": [
    "ws.range('O2').options(transpose=True).value = ws.range(f\"O2:O{last_row}\").value"
   ]
  },
  {
   "cell_type": "code",
   "execution_count": 115,
   "metadata": {},
   "outputs": [
    {
     "data": {
      "text/plain": [
       "True"
      ]
     },
     "execution_count": 115,
     "metadata": {},
     "output_type": "execute_result"
    }
   ],
   "source": [
    "ws.range('C:E').api.Delete()"
   ]
  },
  {
   "cell_type": "code",
   "execution_count": 12,
   "metadata": {},
   "outputs": [
    {
     "data": {
      "text/plain": [
       "True"
      ]
     },
     "execution_count": 12,
     "metadata": {},
     "output_type": "execute_result"
    }
   ],
   "source": [
    "import datetime\n",
    "\n",
    "for day in ws.range(f'L2:L{last_row}'):\n",
    "    if day.value <= datetime.datetime(2016, 9, 24, 0, 0):\n",
    "        to_delete = int(day.get_address(0,0)[1:])-1\n",
    "\n",
    "ws.range(f'2:{to_delete}').api.Delete()"
   ]
  },
  {
   "cell_type": "markdown",
   "metadata": {},
   "source": [
    "# Format Table"
   ]
  },
  {
   "cell_type": "code",
   "execution_count": 24,
   "metadata": {},
   "outputs": [],
   "source": [
    "last_column = ws.range(1,1).end('right').get_address(0,0)[0]\n",
    "ws.range(f'A1:{last_column}1').api.Font.Bold = True\n",
    "ws.range(f'A1:{last_column}1').api.Borders(9).LineStyle = -4119\n",
    "ws.range(f'J1:J{last_row}').number_format = '£#.###,, \"M\"'\n",
    "ws.range(\"A:L\").api.ColumnWidth = ws.range(\"J:J\").api.ColumnWidth"
   ]
  },
  {
   "cell_type": "markdown",
   "metadata": {},
   "source": [
    "# Frequency of Numbers"
   ]
  },
  {
   "cell_type": "code",
   "execution_count": 14,
   "metadata": {},
   "outputs": [],
   "source": [
    "wb.sheets.add(\"Frequencies\")\n",
    "frequencies = wb.sheets[\"Frequencies\"]"
   ]
  },
  {
   "cell_type": "code",
   "execution_count": 15,
   "metadata": {},
   "outputs": [],
   "source": [
    "frequencies.range('A1').value = 'Number'\n",
    "frequencies.range('A2:A51').value = '=ROW()-1'\n",
    "frequencies.range('B1').value = 'Frequency'\n",
    "frequencies.range('B2').value = '=COUNTIF(EuroMillions!$C$2:$I$314, Frequencies!A2)'\n",
    "autofill(frequencies, 'B2', 51)"
   ]
  },
  {
   "cell_type": "markdown",
   "metadata": {},
   "source": [
    "Count the number of numbers."
   ]
  },
  {
   "cell_type": "code",
   "execution_count": 16,
   "metadata": {},
   "outputs": [],
   "source": [
    "frequencies.range('D1').value = 'Lucky Stars'\n",
    "frequencies.range('E1').value = 'Frequency'\n",
    "frequencies.range('D2:D13').value = '=ROW()-1'\n",
    "frequencies.range('E2:E13').value = '=COUNTIF(EuroMillions!$H$2:$I$314, Frequencies!D2)'"
   ]
  },
  {
   "cell_type": "markdown",
   "metadata": {},
   "source": [
    "Count the number of Lucky Stars."
   ]
  },
  {
   "cell_type": "markdown",
   "metadata": {},
   "source": [
    "# Graphing the Numbers"
   ]
  },
  {
   "cell_type": "code",
   "execution_count": 17,
   "metadata": {},
   "outputs": [],
   "source": [
    "wb.sheets.add(\"Graphs\")"
   ]
  },
  {
   "cell_type": "code",
   "execution_count": 24,
   "metadata": {},
   "outputs": [],
   "source": [
    "graphs = wb.sheets(\"Graphs\")"
   ]
  },
  {
   "cell_type": "markdown",
   "metadata": {},
   "source": [
    "#### Number Frequency Chart"
   ]
  },
  {
   "cell_type": "code",
   "execution_count": 18,
   "metadata": {},
   "outputs": [],
   "source": [
    "nr_freq = xw.Chart()"
   ]
  },
  {
   "cell_type": "code",
   "execution_count": 37,
   "metadata": {},
   "outputs": [],
   "source": [
    "nr_freq.name = 'Number Frequencies'\n",
    "nr_freq.set_source_data(frequencies.range('Frequencies!B1:B51'))\n",
    "nr_freq.api[1].FullSeriesCollection(1).XValues = 'Frequencies!A2:A51'\n",
    "nr_freq.chart_type = 'column_clustered'\n",
    "nr_freq.height = 250\n",
    "nr_freq.width = 750\n",
    "nr_freq.api[1].SetElement(2)\n",
    "nr_freq.api[1].ChartTitle.Text = 'Number Frequencies'\n",
    "nr_freq.api[1].HasLegend = 0\n",
    "nr_freq.api[1].Axes(1).TickLabelSpacing = 1\n",
    "graphs.shapes.api('Number Frequencies').Line.Visible = 0"
   ]
  },
  {
   "cell_type": "markdown",
   "metadata": {},
   "source": [
    "#### Lucky Stars Chart"
   ]
  },
  {
   "cell_type": "code",
   "execution_count": 35,
   "metadata": {},
   "outputs": [],
   "source": [
    "ls_freq = xw.Chart()"
   ]
  },
  {
   "cell_type": "code",
   "execution_count": 44,
   "metadata": {},
   "outputs": [],
   "source": [
    "ls_freq.top = 250\n",
    "ls_freq.name = 'Lucky Stars Frequencies'\n",
    "ls_freq.set_source_data(frequencies.range('Frequencies!E2:E13'))\n",
    "ls_freq.api[1].FullSeriesCollection(1).XValues = 'Frequencies!D2:D13'\n",
    "ls_freq.chart_type = 'column_clustered'\n",
    "ls_freq.height = 250\n",
    "ls_freq.width = 750\n",
    "ls_freq.api[1].SetElement(2)\n",
    "ls_freq.api[1].ChartTitle.Text = 'Lucky Stars Frequencies'\n",
    "ls_freq.api[1].HasLegend = 0\n",
    "ls_freq.api[1].Axes(1).TickLabelSpacing = 1\n",
    "graphs.shapes.api('Lucky Stars Frequencies').Line.Visible = 0"
   ]
  },
  {
   "cell_type": "markdown",
   "metadata": {},
   "source": [
    "#### Jackpot Chart"
   ]
  },
  {
   "cell_type": "code",
   "execution_count": 22,
   "metadata": {},
   "outputs": [],
   "source": [
    "jackpot = xw.Chart()"
   ]
  },
  {
   "cell_type": "code",
   "execution_count": 33,
   "metadata": {},
   "outputs": [],
   "source": [
    "jackpot.top = 500\n",
    "jackpot.name = 'Jackpot'\n",
    "jackpot.set_source_data(ws.range(f'EuroMillions!J2:J{last_row}'))\n",
    "jackpot.api[1].FullSeriesCollection(1).XValues = f'EuroMillions!L2:L{last_row}'\n",
    "jackpot.chart_type = 'line'\n",
    "jackpot.height = 250\n",
    "jackpot.width = 750\n",
    "jackpot.api[1].SetElement(2)\n",
    "jackpot.api[1].ChartTitle.Text = 'Jackpot'\n",
    "jackpot.api[1].HasLegend = 0\n",
    "jackpot.api[1].Axes(1).TickLabelSpacing = 1\n",
    "graphs.shapes.api('Jackpot').Line.Visible = 0\n",
    "jackpot.api[1].Axes(2).TickLabels.NumberFormat = '£0.###,, \"M\"'"
   ]
  },
  {
   "cell_type": "code",
   "execution_count": 34,
   "metadata": {},
   "outputs": [],
   "source": [
    "wb.save('EuroMillions.xlsx')"
   ]
  },
  {
   "cell_type": "code",
   "execution_count": null,
   "metadata": {},
   "outputs": [],
   "source": []
  }
 ],
 "metadata": {
  "kernelspec": {
   "display_name": "Python 3",
   "language": "python",
   "name": "python3"
  },
  "language_info": {
   "codemirror_mode": {
    "name": "ipython",
    "version": 3
   },
   "file_extension": ".py",
   "mimetype": "text/x-python",
   "name": "python",
   "nbconvert_exporter": "python",
   "pygments_lexer": "ipython3",
   "version": "3.7.3"
  }
 },
 "nbformat": 4,
 "nbformat_minor": 4
}
